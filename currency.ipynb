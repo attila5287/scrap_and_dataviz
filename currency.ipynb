{
 "cells": [
  {
   "cell_type": "code",
   "execution_count": 1,
   "metadata": {},
   "outputs": [],
   "source": [
    "import matplotlib.pyplot as plt\n",
    "import pandas as pd\n",
    "import seaborn as sns"
   ]
  },
  {
   "cell_type": "code",
   "execution_count": 2,
   "metadata": {},
   "outputs": [],
   "source": [
    "# url = 'https://gist.githubusercontent.com/attila5287/3e9ca129a6b29b0d91c4fc786434f1cb/raw/b84a2d1b65ee3d01f94f4a2fc0d6fcbb9fe00e91/currency.csv'\n",
    "url = 'https://gist.githubusercontent.com/attila5287/d61f5d3ecab4a9170dc5e78c81dec14d/raw/6956d45832acb3518c2747fd73bd044bd50eb475/usd.csv'"
   ]
  },
  {
   "cell_type": "code",
   "execution_count": 3,
   "metadata": {},
   "outputs": [
    {
     "data": {
      "text/html": [
       "<div>\n",
       "<style scoped>\n",
       "    .dataframe tbody tr th:only-of-type {\n",
       "        vertical-align: middle;\n",
       "    }\n",
       "\n",
       "    .dataframe tbody tr th {\n",
       "        vertical-align: top;\n",
       "    }\n",
       "\n",
       "    .dataframe thead th {\n",
       "        text-align: right;\n",
       "    }\n",
       "</style>\n",
       "<table border=\"1\" class=\"dataframe\">\n",
       "  <thead>\n",
       "    <tr style=\"text-align: right;\">\n",
       "      <th></th>\n",
       "      <th>LOCATION</th>\n",
       "      <th>INDICATOR</th>\n",
       "      <th>SUBJECT</th>\n",
       "      <th>MEASURE</th>\n",
       "      <th>FREQUENCY</th>\n",
       "      <th>TIME</th>\n",
       "      <th>Value</th>\n",
       "      <th>Flag Codes</th>\n",
       "    </tr>\n",
       "  </thead>\n",
       "  <tbody>\n",
       "    <tr>\n",
       "      <th>0</th>\n",
       "      <td>AUS</td>\n",
       "      <td>EXCH</td>\n",
       "      <td>TOT</td>\n",
       "      <td>NATUSD</td>\n",
       "      <td>A</td>\n",
       "      <td>1950</td>\n",
       "      <td>0.892857</td>\n",
       "      <td>NaN</td>\n",
       "    </tr>\n",
       "    <tr>\n",
       "      <th>1</th>\n",
       "      <td>AUS</td>\n",
       "      <td>EXCH</td>\n",
       "      <td>TOT</td>\n",
       "      <td>NATUSD</td>\n",
       "      <td>A</td>\n",
       "      <td>1951</td>\n",
       "      <td>0.892857</td>\n",
       "      <td>NaN</td>\n",
       "    </tr>\n",
       "    <tr>\n",
       "      <th>2</th>\n",
       "      <td>AUS</td>\n",
       "      <td>EXCH</td>\n",
       "      <td>TOT</td>\n",
       "      <td>NATUSD</td>\n",
       "      <td>A</td>\n",
       "      <td>1952</td>\n",
       "      <td>0.892857</td>\n",
       "      <td>NaN</td>\n",
       "    </tr>\n",
       "    <tr>\n",
       "      <th>3</th>\n",
       "      <td>AUS</td>\n",
       "      <td>EXCH</td>\n",
       "      <td>TOT</td>\n",
       "      <td>NATUSD</td>\n",
       "      <td>A</td>\n",
       "      <td>1953</td>\n",
       "      <td>0.892857</td>\n",
       "      <td>NaN</td>\n",
       "    </tr>\n",
       "    <tr>\n",
       "      <th>4</th>\n",
       "      <td>AUS</td>\n",
       "      <td>EXCH</td>\n",
       "      <td>TOT</td>\n",
       "      <td>NATUSD</td>\n",
       "      <td>A</td>\n",
       "      <td>1954</td>\n",
       "      <td>0.892857</td>\n",
       "      <td>NaN</td>\n",
       "    </tr>\n",
       "    <tr>\n",
       "      <th>...</th>\n",
       "      <td>...</td>\n",
       "      <td>...</td>\n",
       "      <td>...</td>\n",
       "      <td>...</td>\n",
       "      <td>...</td>\n",
       "      <td>...</td>\n",
       "      <td>...</td>\n",
       "      <td>...</td>\n",
       "    </tr>\n",
       "    <tr>\n",
       "      <th>3784</th>\n",
       "      <td>SGP</td>\n",
       "      <td>EXCH</td>\n",
       "      <td>TOT</td>\n",
       "      <td>NATUSD</td>\n",
       "      <td>A</td>\n",
       "      <td>2017</td>\n",
       "      <td>1.380925</td>\n",
       "      <td>NaN</td>\n",
       "    </tr>\n",
       "    <tr>\n",
       "      <th>3785</th>\n",
       "      <td>SGP</td>\n",
       "      <td>EXCH</td>\n",
       "      <td>TOT</td>\n",
       "      <td>NATUSD</td>\n",
       "      <td>A</td>\n",
       "      <td>2018</td>\n",
       "      <td>1.348842</td>\n",
       "      <td>NaN</td>\n",
       "    </tr>\n",
       "    <tr>\n",
       "      <th>3786</th>\n",
       "      <td>SGP</td>\n",
       "      <td>EXCH</td>\n",
       "      <td>TOT</td>\n",
       "      <td>NATUSD</td>\n",
       "      <td>A</td>\n",
       "      <td>2019</td>\n",
       "      <td>1.364158</td>\n",
       "      <td>NaN</td>\n",
       "    </tr>\n",
       "    <tr>\n",
       "      <th>3787</th>\n",
       "      <td>SGP</td>\n",
       "      <td>EXCH</td>\n",
       "      <td>TOT</td>\n",
       "      <td>NATUSD</td>\n",
       "      <td>A</td>\n",
       "      <td>2020</td>\n",
       "      <td>1.379742</td>\n",
       "      <td>NaN</td>\n",
       "    </tr>\n",
       "    <tr>\n",
       "      <th>3788</th>\n",
       "      <td>SGP</td>\n",
       "      <td>EXCH</td>\n",
       "      <td>TOT</td>\n",
       "      <td>NATUSD</td>\n",
       "      <td>A</td>\n",
       "      <td>2021</td>\n",
       "      <td>1.343483</td>\n",
       "      <td>NaN</td>\n",
       "    </tr>\n",
       "  </tbody>\n",
       "</table>\n",
       "<p>3789 rows × 8 columns</p>\n",
       "</div>"
      ],
      "text/plain": [
       "     LOCATION INDICATOR SUBJECT MEASURE FREQUENCY  TIME     Value  Flag Codes\n",
       "0         AUS      EXCH     TOT  NATUSD         A  1950  0.892857         NaN\n",
       "1         AUS      EXCH     TOT  NATUSD         A  1951  0.892857         NaN\n",
       "2         AUS      EXCH     TOT  NATUSD         A  1952  0.892857         NaN\n",
       "3         AUS      EXCH     TOT  NATUSD         A  1953  0.892857         NaN\n",
       "4         AUS      EXCH     TOT  NATUSD         A  1954  0.892857         NaN\n",
       "...       ...       ...     ...     ...       ...   ...       ...         ...\n",
       "3784      SGP      EXCH     TOT  NATUSD         A  2017  1.380925         NaN\n",
       "3785      SGP      EXCH     TOT  NATUSD         A  2018  1.348842         NaN\n",
       "3786      SGP      EXCH     TOT  NATUSD         A  2019  1.364158         NaN\n",
       "3787      SGP      EXCH     TOT  NATUSD         A  2020  1.379742         NaN\n",
       "3788      SGP      EXCH     TOT  NATUSD         A  2021  1.343483         NaN\n",
       "\n",
       "[3789 rows x 8 columns]"
      ]
     },
     "execution_count": 3,
     "metadata": {},
     "output_type": "execute_result"
    }
   ],
   "source": [
    "df = pd.read_csv(url)\n",
    "df.columns\n",
    "df.dtypes\n",
    "df.head()\n",
    "df"
   ]
  },
  {
   "cell_type": "code",
   "execution_count": 4,
   "metadata": {},
   "outputs": [
    {
     "data": {
      "text/plain": [
       "array(['AUS', 'AUT', 'BEL', 'CAN', 'CZE', 'DNK', 'FIN', 'FRA', 'DEU',\n",
       "       'GRC', 'HUN', 'ISL', 'IRL', 'ITA', 'JPN', 'KOR', 'LUX', 'MEX',\n",
       "       'NLD', 'NZL', 'NOR', 'POL', 'PRT', 'SVK', 'ESP', 'SWE', 'CHE',\n",
       "       'TUR', 'GBR', 'USA', 'BRA', 'CHL', 'CHN', 'COL', 'EST', 'IND',\n",
       "       'IDN', 'ISR', 'RUS', 'SVN', 'ZAF', 'DEW', 'LVA', 'LTU', 'SAU',\n",
       "       'EA19', 'ARG', 'CRI', 'BGR', 'HRV', 'CYP', 'MLT', 'ROU', 'MKD',\n",
       "       'MDG', 'MAR', 'ZMB', 'SRB', 'HKG', 'EU27_2020', 'ALB', 'SGP'],\n",
       "      dtype=object)"
      ]
     },
     "execution_count": 4,
     "metadata": {},
     "output_type": "execute_result"
    }
   ],
   "source": [
    "countries = df['LOCATION']\n",
    "countries.unique()"
   ]
  },
  {
   "cell_type": "code",
   "execution_count": 5,
   "metadata": {},
   "outputs": [],
   "source": [
    "df = df[['LOCATION', 'TIME', 'Value', ]]"
   ]
  },
  {
   "cell_type": "code",
   "execution_count": 6,
   "metadata": {},
   "outputs": [
    {
     "data": {
      "text/html": [
       "<div>\n",
       "<style scoped>\n",
       "    .dataframe tbody tr th:only-of-type {\n",
       "        vertical-align: middle;\n",
       "    }\n",
       "\n",
       "    .dataframe tbody tr th {\n",
       "        vertical-align: top;\n",
       "    }\n",
       "\n",
       "    .dataframe thead th {\n",
       "        text-align: right;\n",
       "    }\n",
       "</style>\n",
       "<table border=\"1\" class=\"dataframe\">\n",
       "  <thead>\n",
       "    <tr style=\"text-align: right;\">\n",
       "      <th></th>\n",
       "      <th>TIME</th>\n",
       "      <th>Value</th>\n",
       "    </tr>\n",
       "    <tr>\n",
       "      <th>LOCATION</th>\n",
       "      <th></th>\n",
       "      <th></th>\n",
       "    </tr>\n",
       "  </thead>\n",
       "  <tbody>\n",
       "    <tr>\n",
       "      <th>ALB</th>\n",
       "      <td>1992</td>\n",
       "      <td>75.032500</td>\n",
       "    </tr>\n",
       "    <tr>\n",
       "      <th>ARG</th>\n",
       "      <td>1962</td>\n",
       "      <td>0.000000</td>\n",
       "    </tr>\n",
       "    <tr>\n",
       "      <th>AUS</th>\n",
       "      <td>1950</td>\n",
       "      <td>0.696666</td>\n",
       "    </tr>\n",
       "    <tr>\n",
       "      <th>AUT</th>\n",
       "      <td>1950</td>\n",
       "      <td>0.679923</td>\n",
       "    </tr>\n",
       "    <tr>\n",
       "      <th>BEL</th>\n",
       "      <td>1950</td>\n",
       "      <td>0.679923</td>\n",
       "    </tr>\n",
       "    <tr>\n",
       "      <th>...</th>\n",
       "      <td>...</td>\n",
       "      <td>...</td>\n",
       "    </tr>\n",
       "    <tr>\n",
       "      <th>SWE</th>\n",
       "      <td>1950</td>\n",
       "      <td>4.152192</td>\n",
       "    </tr>\n",
       "    <tr>\n",
       "      <th>TUR</th>\n",
       "      <td>1950</td>\n",
       "      <td>0.000005</td>\n",
       "    </tr>\n",
       "    <tr>\n",
       "      <th>USA</th>\n",
       "      <td>1950</td>\n",
       "      <td>1.000000</td>\n",
       "    </tr>\n",
       "    <tr>\n",
       "      <th>ZAF</th>\n",
       "      <td>1950</td>\n",
       "      <td>0.679477</td>\n",
       "    </tr>\n",
       "    <tr>\n",
       "      <th>ZMB</th>\n",
       "      <td>1950</td>\n",
       "      <td>0.000643</td>\n",
       "    </tr>\n",
       "  </tbody>\n",
       "</table>\n",
       "<p>62 rows × 2 columns</p>\n",
       "</div>"
      ],
      "text/plain": [
       "          TIME      Value\n",
       "LOCATION                 \n",
       "ALB       1992  75.032500\n",
       "ARG       1962   0.000000\n",
       "AUS       1950   0.696666\n",
       "AUT       1950   0.679923\n",
       "BEL       1950   0.679923\n",
       "...        ...        ...\n",
       "SWE       1950   4.152192\n",
       "TUR       1950   0.000005\n",
       "USA       1950   1.000000\n",
       "ZAF       1950   0.679477\n",
       "ZMB       1950   0.000643\n",
       "\n",
       "[62 rows x 2 columns]"
      ]
     },
     "execution_count": 6,
     "metadata": {},
     "output_type": "execute_result"
    }
   ],
   "source": [
    "df.groupby(['LOCATION']).min()\n"
   ]
  },
  {
   "cell_type": "code",
   "execution_count": 13,
   "metadata": {},
   "outputs": [
    {
     "data": {
      "text/plain": [
       "<Figure size 792x432 with 0 Axes>"
      ]
     },
     "execution_count": 13,
     "metadata": {},
     "output_type": "execute_result"
    },
    {
     "data": {
      "text/plain": [
       "<Figure size 792x432 with 0 Axes>"
      ]
     },
     "metadata": {},
     "output_type": "display_data"
    }
   ],
   "source": [
    "plt.style.use('fivethirtyeight')\n"
   ]
  },
  {
   "cell_type": "code",
   "execution_count": 19,
   "metadata": {},
   "outputs": [
    {
     "data": {
      "image/png": "[encoded data removed]",
      "text/plain": [
       "<Figure size 792x432 with 1 Axes>"
      ]
     },
     "metadata": {},
     "output_type": "display_data"
    }
   ],
   "source": [
    "plt.figure(figsize=(11, 6), facecolor='0.95', )\n",
    "plt.title('USD', fontsize=20, color='firebrick', weight='semibold')\n",
    "\n",
    "for country in list(df['LOCATION'].unique()):\n",
    "    pass\n",
    "    x = df.loc[df['LOCATION']==country]['TIME']\n",
    "    y = df.loc[df['LOCATION']==country]['Value']\n",
    "    plt.plot(x,y)\n",
    "plt.show()"
   ]
  },
  {
   "cell_type": "code",
   "execution_count": 20,
   "metadata": {},
   "outputs": [
    {
     "data": {
      "image/png": "[encoded data removed]",
      "text/plain": [
       "<Figure size 792x432 with 1 Axes>"
      ]
     },
     "metadata": {},
     "output_type": "display_data"
    }
   ],
   "source": [
    "plt.figure(figsize=(11, 6), facecolor='0.95', )\n",
    "plt.title('Turkey', fontsize=20, color='firebrick', weight='semibold')\n",
    "\n",
    "for country in ['TUR']:\n",
    "    pass\n",
    "    x = df.loc[df['LOCATION']==country]['TIME']\n",
    "    y = df.loc[df['LOCATION']==country]['Value']\n",
    "    \n",
    "    plt.plot(x,y)\n",
    "plt.show()"
   ]
  },
  {
   "cell_type": "code",
   "execution_count": null,
   "metadata": {},
   "outputs": [],
   "source": []
  },
  {
   "cell_type": "code",
   "execution_count": null,
   "metadata": {},
   "outputs": [],
   "source": []
  },
  {
   "cell_type": "code",
   "execution_count": null,
   "metadata": {},
   "outputs": [],
   "source": []
  }
 ],
 "metadata": {
  "kernelspec": {
   "display_name": "Python 3",
   "language": "python",
   "name": "python3"
  },
  "language_info": {
   "codemirror_mode": {
    "name": "ipython",
    "version": 3
   },
   "file_extension": ".py",
   "mimetype": "text/x-python",
   "name": "python",
   "nbconvert_exporter": "python",
   "pygments_lexer": "ipython3",
   "version": "3.7.6"
  }
 },
 "nbformat": 4,
 "nbformat_minor": 4
}
