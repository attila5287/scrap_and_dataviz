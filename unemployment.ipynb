{
 "cells": [
  {
   "cell_type": "code",
   "execution_count": 271,
   "metadata": {},
   "outputs": [],
   "source": [
    "from IPython.core.interactiveshell import InteractiveShell\n",
    "InteractiveShell.ast_node_interactivity = \"last\""
   ]
  },
  {
   "cell_type": "code",
   "execution_count": 272,
   "metadata": {},
   "outputs": [],
   "source": [
    "from datetime import datetime"
   ]
  },
  {
   "cell_type": "code",
   "execution_count": 273,
   "metadata": {},
   "outputs": [],
   "source": [
    "import matplotlib.pyplot as plt\n",
    "plt.style.use('fivethirtyeight')\n",
    "import pandas as pd\n",
    "import seaborn as sns\n",
    "import json\n",
    "import requests\n",
    "import folium\n",
    "from folium.plugins import TimeSliderChoropleth"
   ]
  },
  {
   "cell_type": "code",
   "execution_count": 274,
   "metadata": {},
   "outputs": [],
   "source": [
    "url = 'https://www.ncsl.org/research/labor-and-employment/state-unemployment-update.aspx'"
   ]
  },
  {
   "cell_type": "code",
   "execution_count": 275,
   "metadata": {
    "scrolled": true
   },
   "outputs": [
    {
     "data": {
      "text/html": [
       "<div>\n",
       "<style scoped>\n",
       "    .dataframe tbody tr th:only-of-type {\n",
       "        vertical-align: middle;\n",
       "    }\n",
       "\n",
       "    .dataframe tbody tr th {\n",
       "        vertical-align: top;\n",
       "    }\n",
       "\n",
       "    .dataframe thead th {\n",
       "        text-align: right;\n",
       "    }\n",
       "</style>\n",
       "<table border=\"1\" class=\"dataframe\">\n",
       "  <thead>\n",
       "    <tr style=\"text-align: right;\">\n",
       "      <th></th>\n",
       "      <th>State</th>\n",
       "      <th>Jan.</th>\n",
       "      <th>Feb.</th>\n",
       "      <th>March</th>\n",
       "      <th>April</th>\n",
       "      <th>May</th>\n",
       "      <th>June</th>\n",
       "      <th>July</th>\n",
       "      <th>Aug.</th>\n",
       "      <th>Sept.</th>\n",
       "      <th>Oct.</th>\n",
       "      <th>Nov.</th>\n",
       "      <th>Dec.</th>\n",
       "    </tr>\n",
       "  </thead>\n",
       "  <tbody>\n",
       "    <tr>\n",
       "      <th>0</th>\n",
       "      <td>Alabama</td>\n",
       "      <td>4.3</td>\n",
       "      <td>4.0</td>\n",
       "      <td>3.8</td>\n",
       "      <td>3.6</td>\n",
       "      <td>3.4</td>\n",
       "      <td>3.3</td>\n",
       "      <td>3.2</td>\n",
       "      <td>3.1</td>\n",
       "      <td>3.1</td>\n",
       "      <td>3.1</td>\n",
       "      <td>3.1</td>\n",
       "      <td>3.1</td>\n",
       "    </tr>\n",
       "    <tr>\n",
       "      <th>1</th>\n",
       "      <td>Alaska</td>\n",
       "      <td>6.6</td>\n",
       "      <td>6.6</td>\n",
       "      <td>6.6</td>\n",
       "      <td>6.7</td>\n",
       "      <td>6.6</td>\n",
       "      <td>6.6</td>\n",
       "      <td>6.6</td>\n",
       "      <td>6.4</td>\n",
       "      <td>6.3</td>\n",
       "      <td>6.1</td>\n",
       "      <td>6.0</td>\n",
       "      <td>5.7</td>\n",
       "    </tr>\n",
       "    <tr>\n",
       "      <th>2</th>\n",
       "      <td>Arizona</td>\n",
       "      <td>6.7</td>\n",
       "      <td>6.9</td>\n",
       "      <td>6.7</td>\n",
       "      <td>6.7</td>\n",
       "      <td>6.7</td>\n",
       "      <td>6.8</td>\n",
       "      <td>6.6</td>\n",
       "      <td>6.2</td>\n",
       "      <td>5.7</td>\n",
       "      <td>5.2</td>\n",
       "      <td>4.7</td>\n",
       "      <td>4.1</td>\n",
       "    </tr>\n",
       "    <tr>\n",
       "      <th>3</th>\n",
       "      <td>Arkansas</td>\n",
       "      <td>4.6</td>\n",
       "      <td>4.5</td>\n",
       "      <td>4.4</td>\n",
       "      <td>4.4</td>\n",
       "      <td>4.4</td>\n",
       "      <td>4.4</td>\n",
       "      <td>4.3</td>\n",
       "      <td>4.2</td>\n",
       "      <td>4.0</td>\n",
       "      <td>3.7</td>\n",
       "      <td>3.4</td>\n",
       "      <td>3.1</td>\n",
       "    </tr>\n",
       "    <tr>\n",
       "      <th>4</th>\n",
       "      <td>California</td>\n",
       "      <td>9.0</td>\n",
       "      <td>8.5</td>\n",
       "      <td>8.3</td>\n",
       "      <td>8.3</td>\n",
       "      <td>7.9</td>\n",
       "      <td>7.7</td>\n",
       "      <td>7.6</td>\n",
       "      <td>7.5</td>\n",
       "      <td>7.5</td>\n",
       "      <td>7.3</td>\n",
       "      <td>6.9</td>\n",
       "      <td>6.5</td>\n",
       "    </tr>\n",
       "  </tbody>\n",
       "</table>\n",
       "</div>"
      ],
      "text/plain": [
       "        State  Jan.  Feb.  March  April  May  June  July  Aug.  Sept.  Oct.  \\\n",
       "0     Alabama   4.3   4.0    3.8    3.6  3.4   3.3   3.2   3.1    3.1   3.1   \n",
       "1      Alaska   6.6   6.6    6.6    6.7  6.6   6.6   6.6   6.4    6.3   6.1   \n",
       "2     Arizona   6.7   6.9    6.7    6.7  6.7   6.8   6.6   6.2    5.7   5.2   \n",
       "3    Arkansas   4.6   4.5    4.4    4.4  4.4   4.4   4.3   4.2    4.0   3.7   \n",
       "4  California   9.0   8.5    8.3    8.3  7.9   7.7   7.6   7.5    7.5   7.3   \n",
       "\n",
       "   Nov.  Dec.  \n",
       "0   3.1   3.1  \n",
       "1   6.0   5.7  \n",
       "2   4.7   4.1  \n",
       "3   3.4   3.1  \n",
       "4   6.9   6.5  "
      ]
     },
     "execution_count": 275,
     "metadata": {},
     "output_type": "execute_result"
    }
   ],
   "source": [
    "df = pd.read_html(url)[0]\n",
    "type(df)\n",
    "df.head()"
   ]
  },
  {
   "cell_type": "code",
   "execution_count": 276,
   "metadata": {},
   "outputs": [],
   "source": [
    "sorted = list(pd.DataFrame(\n",
    "    df.set_index('State').transpose()\\\n",
    "    .mean().sort_values(ascending=False)).index\n",
    "             )\n"
   ]
  },
  {
   "cell_type": "code",
   "execution_count": 277,
   "metadata": {},
   "outputs": [
    {
     "data": {
      "text/plain": [
       "Index(['Jan.', 'Feb.', 'March', 'April', 'May', 'June', 'July', 'Aug.',\n",
       "       'Sept.', 'Oct.', 'Nov.', 'Dec.'],\n",
       "      dtype='object')"
      ]
     },
     "execution_count": 277,
     "metadata": {},
     "output_type": "execute_result"
    }
   ],
   "source": [
    "x = df.set_index('State').transpose().index\n",
    "x"
   ]
  },
  {
   "cell_type": "code",
   "execution_count": 278,
   "metadata": {},
   "outputs": [
    {
     "data": {
      "image/png": "[encoded data removed]",
      "text/plain": [
       "<Figure size 792x432 with 1 Axes>"
      ]
     },
     "metadata": {},
     "output_type": "display_data"
    }
   ],
   "source": [
    "plt.figure(figsize=(11, 6), facecolor='0.95', )\n",
    "plt.title('Highs and Lows: State Unemployment Rates 2021', fontsize=20, color='firebrick', weight='semibold')\n",
    "states = df.set_index('State').transpose().columns\n",
    "highest = sorted[ :5 ]\n",
    "lowest = sorted[ -5: ]\n",
    "merged = [ *lowest, *highest ]\n",
    "for s in merged: #state\n",
    "    pass\n",
    "    y = df.set_index('State').transpose()[s]\n",
    "    len(y)\n",
    "    plt.scatter( x, y, s=10 )\n",
    "    plt.plot( x, y, linewidth=1 )\n",
    "plt.legend( merged, fontsize=9 )\n",
    "plt.show()    "
   ]
  },
  {
   "cell_type": "code",
   "execution_count": 279,
   "metadata": {},
   "outputs": [],
   "source": [
    "urljson = 'https://raw.githubusercontent.com/shawnbot/topogram/master/data/us-states.geojson'"
   ]
  },
  {
   "cell_type": "code",
   "execution_count": 280,
   "metadata": {},
   "outputs": [],
   "source": [
    "geo = json.loads(requests.get(urljson).text)"
   ]
  },
  {
   "cell_type": "code",
   "execution_count": 281,
   "metadata": {},
   "outputs": [
    {
     "name": "stderr",
     "output_type": "stream",
     "text": [
      "C:\\Users\\DENVER\\anaconda3\\lib\\site-packages\\folium\\folium.py:413: FutureWarning: The choropleth  method has been deprecated. Instead use the new Choropleth class, which has the same arguments. See the example notebook 'GeoJSON_and_choropleth' for how to do this.\n",
      "  FutureWarning\n"
     ]
    }
   ],
   "source": [
    "m = folium.Map(location=[35, -95], zoom_start=4)\n",
    "m.choropleth(\n",
    "    geo_data = geo,                  #json\n",
    "    data =  df,                     \n",
    "    columns = ['State', 'April'], #columns to work on\n",
    "    key_on ='feature.properties.name',\n",
    "    fill_color ='YlGnBu',     \n",
    "    line_color ='white',     \n",
    "    fill_opacity = 0.7,\n",
    "    line_opacity = 0.8,\n",
    "   legend_name = \"Scale Test\"\n",
    ")\n",
    "# m"
   ]
  },
  {
   "cell_type": "code",
   "execution_count": 282,
   "metadata": {},
   "outputs": [],
   "source": [
    "df = pd.read_html(url)[0]"
   ]
  },
  {
   "cell_type": "code",
   "execution_count": 283,
   "metadata": {},
   "outputs": [],
   "source": [
    "datetime_index = pd.date_range('2021-1-1', periods=12, freq='M')\n",
    "dt_index_epochs = datetime_index.astype(int) \n",
    "dt_index = dt_index_epochs.astype('U10')"
   ]
  },
  {
   "cell_type": "code",
   "execution_count": 284,
   "metadata": {},
   "outputs": [
    {
     "data": {
      "text/html": [
       "<div>\n",
       "<style scoped>\n",
       "    .dataframe tbody tr th:only-of-type {\n",
       "        vertical-align: middle;\n",
       "    }\n",
       "\n",
       "    .dataframe tbody tr th {\n",
       "        vertical-align: top;\n",
       "    }\n",
       "\n",
       "    .dataframe thead th {\n",
       "        text-align: right;\n",
       "    }\n",
       "</style>\n",
       "<table border=\"1\" class=\"dataframe\">\n",
       "  <thead>\n",
       "    <tr style=\"text-align: right;\">\n",
       "      <th></th>\n",
       "      <th>State</th>\n",
       "      <th>Month</th>\n",
       "      <th>Date</th>\n",
       "      <th>Rate</th>\n",
       "    </tr>\n",
       "  </thead>\n",
       "  <tbody>\n",
       "    <tr>\n",
       "      <th>0</th>\n",
       "      <td>Alabama</td>\n",
       "      <td>Jan</td>\n",
       "      <td>1612051200</td>\n",
       "      <td>4.3</td>\n",
       "    </tr>\n",
       "    <tr>\n",
       "      <th>1</th>\n",
       "      <td>Alabama</td>\n",
       "      <td>Feb</td>\n",
       "      <td>1614470400</td>\n",
       "      <td>4.0</td>\n",
       "    </tr>\n",
       "    <tr>\n",
       "      <th>2</th>\n",
       "      <td>Alabama</td>\n",
       "      <td>March</td>\n",
       "      <td>1617148800</td>\n",
       "      <td>3.8</td>\n",
       "    </tr>\n",
       "    <tr>\n",
       "      <th>3</th>\n",
       "      <td>Alabama</td>\n",
       "      <td>April</td>\n",
       "      <td>1619740800</td>\n",
       "      <td>3.6</td>\n",
       "    </tr>\n",
       "    <tr>\n",
       "      <th>4</th>\n",
       "      <td>Alabama</td>\n",
       "      <td>May</td>\n",
       "      <td>1622419200</td>\n",
       "      <td>3.4</td>\n",
       "    </tr>\n",
       "  </tbody>\n",
       "</table>\n",
       "</div>"
      ],
      "text/plain": [
       "     State  Month        Date  Rate\n",
       "0  Alabama    Jan  1612051200   4.3\n",
       "1  Alabama    Feb  1614470400   4.0\n",
       "2  Alabama  March  1617148800   3.8\n",
       "3  Alabama  April  1619740800   3.6\n",
       "4  Alabama    May  1622419200   3.4"
      ]
     },
     "execution_count": 284,
     "metadata": {},
     "output_type": "execute_result"
    }
   ],
   "source": [
    "l = []\n",
    "for i,state in enumerate(df['State']):\n",
    "    pass\n",
    "    d={}\n",
    "    for j, month in enumerate( df.columns[1:] ):\n",
    "        pass\n",
    "        d= {\n",
    "        'State' : state,\n",
    "        'Month' : month.replace('.', ''),\n",
    "        'Date'  : dt_index[ j ],  \n",
    "        'Rate' :  list(df.loc[ df['State'] == state ][month])[0],\n",
    "        }\n",
    "        l.append(d)\n",
    "        \n",
    "dfm = pd.DataFrame(l)    \n",
    "dfm.head()"
   ]
  },
  {
   "cell_type": "markdown",
   "metadata": {},
   "source": [
    "https://notebook.community/ocefpaf/folium/examples/TimeSliderChoropleth"
   ]
  },
  {
   "cell_type": "code",
   "execution_count": 285,
   "metadata": {},
   "outputs": [
    {
     "data": {
      "text/html": [
       "<div>\n",
       "<style scoped>\n",
       "    .dataframe tbody tr th:only-of-type {\n",
       "        vertical-align: middle;\n",
       "    }\n",
       "\n",
       "    .dataframe tbody tr th {\n",
       "        vertical-align: top;\n",
       "    }\n",
       "\n",
       "    .dataframe thead th {\n",
       "        text-align: right;\n",
       "    }\n",
       "</style>\n",
       "<table border=\"1\" class=\"dataframe\">\n",
       "  <thead>\n",
       "    <tr style=\"text-align: right;\">\n",
       "      <th></th>\n",
       "      <th>State</th>\n",
       "      <th>Month</th>\n",
       "      <th>Rate</th>\n",
       "    </tr>\n",
       "    <tr>\n",
       "      <th>Date</th>\n",
       "      <th></th>\n",
       "      <th></th>\n",
       "      <th></th>\n",
       "    </tr>\n",
       "  </thead>\n",
       "  <tbody>\n",
       "    <tr>\n",
       "      <th>1612051200</th>\n",
       "      <td>Alabama</td>\n",
       "      <td>Jan</td>\n",
       "      <td>4.3</td>\n",
       "    </tr>\n",
       "    <tr>\n",
       "      <th>1614470400</th>\n",
       "      <td>Alabama</td>\n",
       "      <td>Feb</td>\n",
       "      <td>4.0</td>\n",
       "    </tr>\n",
       "    <tr>\n",
       "      <th>1617148800</th>\n",
       "      <td>Alabama</td>\n",
       "      <td>March</td>\n",
       "      <td>3.8</td>\n",
       "    </tr>\n",
       "    <tr>\n",
       "      <th>1619740800</th>\n",
       "      <td>Alabama</td>\n",
       "      <td>April</td>\n",
       "      <td>3.6</td>\n",
       "    </tr>\n",
       "    <tr>\n",
       "      <th>1622419200</th>\n",
       "      <td>Alabama</td>\n",
       "      <td>May</td>\n",
       "      <td>3.4</td>\n",
       "    </tr>\n",
       "  </tbody>\n",
       "</table>\n",
       "</div>"
      ],
      "text/plain": [
       "              State  Month  Rate\n",
       "Date                            \n",
       "1612051200  Alabama    Jan   4.3\n",
       "1614470400  Alabama    Feb   4.0\n",
       "1617148800  Alabama  March   3.8\n",
       "1619740800  Alabama  April   3.6\n",
       "1622419200  Alabama    May   3.4"
      ]
     },
     "execution_count": 285,
     "metadata": {},
     "output_type": "execute_result"
    }
   ],
   "source": [
    "dfm = dfm.set_index( 'Date' ) if 'Date' in dfm.columns else dfm\n",
    "dfm.head()"
   ]
  },
  {
   "cell_type": "markdown",
   "metadata": {},
   "source": [
    "### add geojson polygons"
   ]
  },
  {
   "cell_type": "code",
   "execution_count": 286,
   "metadata": {},
   "outputs": [],
   "source": [
    "gdict = {}\n",
    "for i in range(len(geo['features'])):\n",
    "    pass\n",
    "    gdict[geo[ 'features' ][i]['properties']['name']] = geo[ 'features' ][i][ 'geometry' ]\n",
    "# gdict    "
   ]
  },
  {
   "cell_type": "code",
   "execution_count": 287,
   "metadata": {},
   "outputs": [],
   "source": [
    "# .astype(int).astype('U10')\n",
    "dfm['geometry'] = ['' for i in range(len(dfm))]\n",
    "dg = dfm.to_dict()\n",
    "# dg"
   ]
  },
  {
   "cell_type": "code",
   "execution_count": 288,
   "metadata": {},
   "outputs": [],
   "source": [
    "g_list = []\n",
    "for s,g in zip( dfm['State'], dfm['geometry']):\n",
    "    pass\n",
    "    g_list.append( gdict.get(s, '') )\n",
    "dg[ 'geometry' ] = g_list\n",
    "# dg"
   ]
  },
  {
   "cell_type": "code",
   "execution_count": 293,
   "metadata": {},
   "outputs": [
    {
     "data": {
      "text/html": [
       "<div style=\"width:100%;\"><div style=\"position:relative;width:100%;height:0;padding-bottom:60%;\"><span style=\"color:#565656\">Make this Notebook Trusted to load map: File -> Trust Notebook</span><iframe src=\"about:blank\" style=\"position:absolute;width:100%;height:100%;left:0;top:0;border:none !important;\" data-html=%3C%21DOCTYPE%20html%3E%0A%3Chead%3E%20%20%20%20%0A%20%20%20%20%3Cmeta%20http-equiv%3D%22content-type%22%20content%3D%22text/html%3B%20charset%3DUTF-8%22%20/%3E%0A%20%20%20%20%0A%20%20%20%20%20%20%20%20%3Cscript%3E%0A%20%20%20%20%20%20%20%20%20%20%20%20L_NO_TOUCH%20%3D%20false%3B%0A%20%20%20%20%20%20%20%20%20%20%20%20L_DISABLE_3D%20%3D%20false%3B%0A%20%20%20%20%20%20%20%20%3C/script%3E%0A%20%20%20%20%0A%20%20%20%20%3Cstyle%3Ehtml%2C%20body%20%7Bwidth%3A%20100%25%3Bheight%3A%20100%25%3Bmargin%3A%200%3Bpadding%3A%200%3B%7D%3C/style%3E%0A%20%20%20%20%3Cstyle%3E%23map%20%7Bposition%3Aabsolute%3Btop%3A0%3Bbottom%3A0%3Bright%3A0%3Bleft%3A0%3B%7D%3C/style%3E%0A%20%20%20%20%3Cscript%20src%3D%22https%3A//cdn.jsdelivr.net/npm/leaflet%401.6.0/dist/leaflet.js%22%3E%3C/script%3E%0A%20%20%20%20%3Cscript%20src%3D%22https%3A//code.jquery.com/jquery-1.12.4.min.js%22%3E%3C/script%3E%0A%20%20%20%20%3Cscript%20src%3D%22https%3A//maxcdn.bootstrapcdn.com/bootstrap/3.2.0/js/bootstrap.min.js%22%3E%3C/script%3E%0A%20%20%20%20%3Cscript%20src%3D%22https%3A//cdnjs.cloudflare.com/ajax/libs/Leaflet.awesome-markers/2.0.2/leaflet.awesome-markers.js%22%3E%3C/script%3E%0A%20%20%20%20%3Clink%20rel%3D%22stylesheet%22%20href%3D%22https%3A//cdn.jsdelivr.net/npm/leaflet%401.6.0/dist/leaflet.css%22/%3E%0A%20%20%20%20%3Clink%20rel%3D%22stylesheet%22%20href%3D%22https%3A//maxcdn.bootstrapcdn.com/bootstrap/3.2.0/css/bootstrap.min.css%22/%3E%0A%20%20%20%20%3Clink%20rel%3D%22stylesheet%22%20href%3D%22https%3A//maxcdn.bootstrapcdn.com/bootstrap/3.2.0/css/bootstrap-theme.min.css%22/%3E%0A%20%20%20%20%3Clink%20rel%3D%22stylesheet%22%20href%3D%22https%3A//maxcdn.bootstrapcdn.com/font-awesome/4.6.3/css/font-awesome.min.css%22/%3E%0A%20%20%20%20%3Clink%20rel%3D%22stylesheet%22%20href%3D%22https%3A//cdnjs.cloudflare.com/ajax/libs/Leaflet.awesome-markers/2.0.2/leaflet.awesome-markers.css%22/%3E%0A%20%20%20%20%3Clink%20rel%3D%22stylesheet%22%20href%3D%22https%3A//cdn.jsdelivr.net/gh/python-visualization/folium/folium/templates/leaflet.awesome.rotate.min.css%22/%3E%0A%20%20%20%20%0A%20%20%20%20%20%20%20%20%20%20%20%20%3Cmeta%20name%3D%22viewport%22%20content%3D%22width%3Ddevice-width%2C%0A%20%20%20%20%20%20%20%20%20%20%20%20%20%20%20%20initial-scale%3D1.0%2C%20maximum-scale%3D1.0%2C%20user-scalable%3Dno%22%20/%3E%0A%20%20%20%20%20%20%20%20%20%20%20%20%3Cstyle%3E%0A%20%20%20%20%20%20%20%20%20%20%20%20%20%20%20%20%23map_582976c998ea4d56b122a2480326deed%20%7B%0A%20%20%20%20%20%20%20%20%20%20%20%20%20%20%20%20%20%20%20%20position%3A%20relative%3B%0A%20%20%20%20%20%20%20%20%20%20%20%20%20%20%20%20%20%20%20%20width%3A%20100.0%25%3B%0A%20%20%20%20%20%20%20%20%20%20%20%20%20%20%20%20%20%20%20%20height%3A%20100.0%25%3B%0A%20%20%20%20%20%20%20%20%20%20%20%20%20%20%20%20%20%20%20%20left%3A%200.0%25%3B%0A%20%20%20%20%20%20%20%20%20%20%20%20%20%20%20%20%20%20%20%20top%3A%200.0%25%3B%0A%20%20%20%20%20%20%20%20%20%20%20%20%20%20%20%20%7D%0A%20%20%20%20%20%20%20%20%20%20%20%20%3C/style%3E%0A%20%20%20%20%20%20%20%20%0A%20%20%20%20%3Cscript%20src%3D%22https%3A//d3js.org/d3.v4.min.js%22%3E%3C/script%3E%0A%3C/head%3E%0A%3Cbody%3E%20%20%20%20%0A%20%20%20%20%0A%20%20%20%20%20%20%20%20%20%20%20%20%3Cdiv%20class%3D%22folium-map%22%20id%3D%22map_582976c998ea4d56b122a2480326deed%22%20%3E%3C/div%3E%0A%20%20%20%20%20%20%20%20%0A%3C/body%3E%0A%3Cscript%3E%20%20%20%20%0A%20%20%20%20%0A%20%20%20%20%20%20%20%20%20%20%20%20var%20map_582976c998ea4d56b122a2480326deed%20%3D%20L.map%28%0A%20%20%20%20%20%20%20%20%20%20%20%20%20%20%20%20%22map_582976c998ea4d56b122a2480326deed%22%2C%0A%20%20%20%20%20%20%20%20%20%20%20%20%20%20%20%20%7B%0A%20%20%20%20%20%20%20%20%20%20%20%20%20%20%20%20%20%20%20%20center%3A%20%5B0.0%2C%200.0%5D%2C%0A%20%20%20%20%20%20%20%20%20%20%20%20%20%20%20%20%20%20%20%20crs%3A%20L.CRS.EPSG3857%2C%0A%20%20%20%20%20%20%20%20%20%20%20%20%20%20%20%20%20%20%20%20zoom%3A%202%2C%0A%20%20%20%20%20%20%20%20%20%20%20%20%20%20%20%20%20%20%20%20zoomControl%3A%20true%2C%0A%20%20%20%20%20%20%20%20%20%20%20%20%20%20%20%20%20%20%20%20preferCanvas%3A%20false%2C%0A%20%20%20%20%20%20%20%20%20%20%20%20%20%20%20%20%7D%0A%20%20%20%20%20%20%20%20%20%20%20%20%29%3B%0A%0A%20%20%20%20%20%20%20%20%20%20%20%20%0A%0A%20%20%20%20%20%20%20%20%0A%20%20%20%20%0A%20%20%20%20%20%20%20%20%20%20%20%20var%20tile_layer_4b6ede57603f4935b8b9640ebd7ed39d%20%3D%20L.tileLayer%28%0A%20%20%20%20%20%20%20%20%20%20%20%20%20%20%20%20%22https%3A//stamen-tiles-%7Bs%7D.a.ssl.fastly.net/terrain/%7Bz%7D/%7Bx%7D/%7By%7D.jpg%22%2C%0A%20%20%20%20%20%20%20%20%20%20%20%20%20%20%20%20%7B%22attribution%22%3A%20%22Map%20tiles%20by%20%5Cu003ca%20href%3D%5C%22http%3A//stamen.com%5C%22%5Cu003eStamen%20Design%5Cu003c/a%5Cu003e%2C%20under%20%5Cu003ca%20href%3D%5C%22http%3A//creativecommons.org/licenses/by/3.0%5C%22%5Cu003eCC%20BY%203.0%5Cu003c/a%5Cu003e.%20Data%20by%20%5Cu0026copy%3B%20%5Cu003ca%20href%3D%5C%22http%3A//openstreetmap.org%5C%22%5Cu003eOpenStreetMap%5Cu003c/a%5Cu003e%2C%20under%20%5Cu003ca%20href%3D%5C%22http%3A//creativecommons.org/licenses/by-sa/3.0%5C%22%5Cu003eCC%20BY%20SA%5Cu003c/a%5Cu003e.%22%2C%20%22detectRetina%22%3A%20false%2C%20%22maxNativeZoom%22%3A%2018%2C%20%22maxZoom%22%3A%2018%2C%20%22minZoom%22%3A%200%2C%20%22noWrap%22%3A%20false%2C%20%22opacity%22%3A%201%2C%20%22subdomains%22%3A%20%22abc%22%2C%20%22tms%22%3A%20false%7D%0A%20%20%20%20%20%20%20%20%20%20%20%20%29.addTo%28map_582976c998ea4d56b122a2480326deed%29%3B%0A%20%20%20%20%20%20%20%20%0A%20%20%20%20%0A%20%20%20%20%20%20%20%20%20%20%20%20var%20timestamps%20%3D%20%5B%5D%3B%0A%20%20%20%20%20%20%20%20%20%20%20%20var%20styledict%20%3D%20%7B%7D%3B%0A%20%20%20%20%20%20%20%20%20%20%20%20var%20current_timestamp%20%3D%20timestamps%5B0%5D%3B%0A%0A%20%20%20%20%20%20%20%20%20%20%20%20//%20insert%20time%20slider%0A%20%20%20%20%20%20%20%20%20%20%20%20d3.select%28%22body%22%29.insert%28%22p%22%2C%20%22%3Afirst-child%22%29.append%28%22input%22%29%0A%20%20%20%20%20%20%20%20%20%20%20%20%20%20%20%20.attr%28%22type%22%2C%20%22range%22%29%0A%20%20%20%20%20%20%20%20%20%20%20%20%20%20%20%20.attr%28%22width%22%2C%20%22100px%22%29%0A%20%20%20%20%20%20%20%20%20%20%20%20%20%20%20%20.attr%28%22min%22%2C%200%29%0A%20%20%20%20%20%20%20%20%20%20%20%20%20%20%20%20.attr%28%22max%22%2C%20timestamps.length%20-%201%29%0A%20%20%20%20%20%20%20%20%20%20%20%20%20%20%20%20.attr%28%22value%22%2C%200%29%0A%20%20%20%20%20%20%20%20%20%20%20%20%20%20%20%20.attr%28%22id%22%2C%20%22slider%22%29%0A%20%20%20%20%20%20%20%20%20%20%20%20%20%20%20%20.attr%28%22step%22%2C%20%221%22%29%0A%20%20%20%20%20%20%20%20%20%20%20%20%20%20%20%20.style%28%27align%27%2C%20%27center%27%29%3B%0A%0A%20%20%20%20%20%20%20%20%20%20%20%20//%20insert%20time%20slider%20output%20BEFORE%20time%20slider%20%28text%20on%20top%20of%20slider%29%0A%20%20%20%20%20%20%20%20%20%20%20%20d3.select%28%22body%22%29.insert%28%22p%22%2C%20%22%3Afirst-child%22%29.append%28%22output%22%29%0A%20%20%20%20%20%20%20%20%20%20%20%20%20%20%20%20.attr%28%22width%22%2C%20%22100%22%29%0A%20%20%20%20%20%20%20%20%20%20%20%20%20%20%20%20.attr%28%22id%22%2C%20%22slider-value%22%29%0A%20%20%20%20%20%20%20%20%20%20%20%20%20%20%20%20.style%28%27font-size%27%2C%20%2718px%27%29%0A%20%20%20%20%20%20%20%20%20%20%20%20%20%20%20%20.style%28%27text-align%27%2C%20%27center%27%29%0A%20%20%20%20%20%20%20%20%20%20%20%20%20%20%20%20.style%28%27font-weight%27%2C%20%27500%25%27%29%3B%0A%0A%20%20%20%20%20%20%20%20%20%20%20%20var%20datestring%20%3D%20new%20Date%28parseInt%28current_timestamp%29%2A1000%29.toDateString%28%29%3B%0A%20%20%20%20%20%20%20%20%20%20%20%20d3.select%28%22output%23slider-value%22%29.text%28datestring%29%3B%0A%0A%20%20%20%20%20%20%20%20%20%20%20%20fill_map%20%3D%20function%28%29%7B%0A%20%20%20%20%20%20%20%20%20%20%20%20%20%20%20%20for%20%28var%20feature_id%20in%20styledict%29%7B%0A%20%20%20%20%20%20%20%20%20%20%20%20%20%20%20%20%20%20%20%20let%20style%20%3D%20styledict%5Bfeature_id%5D//%5Bcurrent_timestamp%5D%3B%0A%20%20%20%20%20%20%20%20%20%20%20%20%20%20%20%20%20%20%20%20var%20fillColor%20%3D%20%27white%27%3B%0A%20%20%20%20%20%20%20%20%20%20%20%20%20%20%20%20%20%20%20%20var%20opacity%20%3D%200%3B%0A%20%20%20%20%20%20%20%20%20%20%20%20%20%20%20%20%20%20%20%20if%20%28current_timestamp%20in%20style%29%7B%0A%20%20%20%20%20%20%20%20%20%20%20%20%20%20%20%20%20%20%20%20%20%20%20%20fillColor%20%3D%20style%5Bcurrent_timestamp%5D%5B%27color%27%5D%3B%0A%20%20%20%20%20%20%20%20%20%20%20%20%20%20%20%20%20%20%20%20%20%20%20%20opacity%20%3D%20style%5Bcurrent_timestamp%5D%5B%27opacity%27%5D%3B%0A%20%20%20%20%20%20%20%20%20%20%20%20%20%20%20%20%20%20%20%20%20%20%20%20d3.selectAll%28%27%23feature-%27%2Bfeature_id%0A%20%20%20%20%20%20%20%20%20%20%20%20%20%20%20%20%20%20%20%20%20%20%20%20%29.attr%28%27fill%27%2C%20fillColor%29%0A%20%20%20%20%20%20%20%20%20%20%20%20%20%20%20%20%20%20%20%20%20%20%20%20.style%28%27fill-opacity%27%2C%20opacity%29%3B%0A%20%20%20%20%20%20%20%20%20%20%20%20%20%20%20%20%20%20%20%20%7D%0A%20%20%20%20%20%20%20%20%20%20%20%20%20%20%20%20%7D%0A%20%20%20%20%20%20%20%20%20%20%20%20%7D%0A%0A%20%20%20%20%20%20%20%20%20%20%20%20d3.select%28%22%23slider%22%29.on%28%22input%22%2C%20function%28%29%20%7B%0A%20%20%20%20%20%20%20%20%20%20%20%20%20%20%20%20current_timestamp%20%3D%20timestamps%5Bthis.value%5D%3B%0A%20%20%20%20%20%20%20%20%20%20%20%20%20%20%20%20var%20datestring%20%3D%20new%20Date%28parseInt%28current_timestamp%29%2A1000%29.toDateString%28%29%3B%0A%20%20%20%20%20%20%20%20%20%20%20%20%20%20%20%20d3.select%28%22output%23slider-value%22%29.text%28datestring%29%3B%0A%20%20%20%20%20%20%20%20%20%20%20%20%20%20%20%20fill_map%28%29%3B%0A%20%20%20%20%20%20%20%20%20%20%20%20%7D%29%3B%0A%0A%20%20%20%20%20%20%20%20%20%20%20%20%0A%0A%20%20%20%20%20%20%20%20%20%20%20%20var%20macro_element_15da9fcb7b9b4f4bbe49575aa4aef9b9%20%3D%20L.geoJson%28%0A%20%20%20%20%20%20%20%20%20%20%20%20%20%20%20%20%20%20%20%20%7B%22April%22%3A%20%7B%220%22%3A%203.6%2C%20%221%22%3A%206.7%2C%20%2210%22%3A%204.3%2C%20%2211%22%3A%208.5%2C%20%2212%22%3A%203.1%2C%20%2213%22%3A%207.1%2C%20%2214%22%3A%203.9%2C%20%2215%22%3A%203.8%2C%20%2216%22%3A%203.5%2C%20%2217%22%3A%204.7%2C%20%2218%22%3A%207.3%2C%20%2219%22%3A%204.8%2C%20%222%22%3A%206.7%2C%20%2220%22%3A%206.2%2C%20%2221%22%3A%206.4%2C%20%2222%22%3A%204.9%2C%20%2223%22%3A%204.1%2C%20%2224%22%3A%206.2%2C%20%2225%22%3A%204.1%2C%20%2226%22%3A%203.7%2C%20%2227%22%3A%202.8%2C%20%2228%22%3A%208.0%2C%20%2229%22%3A%202.8%2C%20%223%22%3A%204.4%2C%20%2230%22%3A%207.5%2C%20%2231%22%3A%208.2%2C%20%2232%22%3A%208.2%2C%20%2233%22%3A%205.0%2C%20%2234%22%3A%204.2%2C%20%2235%22%3A%204.7%2C%20%2236%22%3A%204.3%2C%20%2237%22%3A%205.9%2C%20%2238%22%3A%207.4%2C%20%2239%22%3A%206.3%2C%20%224%22%3A%208.3%2C%20%2240%22%3A%205.0%2C%20%2241%22%3A%202.8%2C%20%2242%22%3A%205.0%2C%20%2243%22%3A%206.7%2C%20%2244%22%3A%202.8%2C%20%2245%22%3A%202.9%2C%20%2246%22%3A%204.7%2C%20%2247%22%3A%205.4%2C%20%2248%22%3A%205.8%2C%20%2249%22%3A%203.9%2C%20%225%22%3A%206.4%2C%20%2250%22%3A%205.4%2C%20%2251%22%3A%208.4%2C%20%226%22%3A%208.1%2C%20%227%22%3A%206.4%2C%20%228%22%3A%207.5%2C%20%229%22%3A%204.8%7D%2C%20%22Aug.%22%3A%20%7B%220%22%3A%203.1%2C%20%221%22%3A%206.4%2C%20%2210%22%3A%203.5%2C%20%2211%22%3A%207.0%2C%20%2212%22%3A%202.9%2C%20%2213%22%3A%207.0%2C%20%2214%22%3A%204.1%2C%20%2215%22%3A%204.1%2C%20%2216%22%3A%203.6%2C%20%2217%22%3A%204.3%2C%20%2218%22%3A%206.2%2C%20%2219%22%3A%204.9%2C%20%222%22%3A%206.2%2C%20%2220%22%3A%205.6%2C%20%2221%22%3A%205.0%2C%20%2222%22%3A%204.7%2C%20%2223%22%3A%203.8%2C%20%2224%22%3A%206.0%2C%20%2225%22%3A%204.0%2C%20%2226%22%3A%203.5%2C%20%2227%22%3A%202.2%2C%20%2228%22%3A%207.7%2C%20%2229%22%3A%203.0%2C%20%223%22%3A%204.2%2C%20%2230%22%3A%207.2%2C%20%2231%22%3A%207.2%2C%20%2232%22%3A%207.4%2C%20%2233%22%3A%204.3%2C%20%2234%22%3A%203.6%2C%20%2235%22%3A%205.4%2C%20%2236%22%3A%203.2%2C%20%2237%22%3A%204.9%2C%20%2238%22%3A%206.4%2C%20%2239%22%3A%205.8%2C%20%224%22%3A%207.5%2C%20%2240%22%3A%204.2%2C%20%2241%22%3A%202.9%2C%20%2242%22%3A%204.6%2C%20%2243%22%3A%205.9%2C%20%2244%22%3A%202.6%2C%20%2245%22%3A%203.0%2C%20%2246%22%3A%204.0%2C%20%2247%22%3A%205.1%2C%20%2248%22%3A%204.8%2C%20%2249%22%3A%203.9%2C%20%225%22%3A%205.9%2C%20%2250%22%3A%204.9%2C%20%2251%22%3A%208.4%2C%20%226%22%3A%207.2%2C%20%227%22%3A%205.4%2C%20%228%22%3A%206.5%2C%20%229%22%3A%205.0%7D%2C%20%22Dec.%22%3A%20%7B%220%22%3A%203.1%2C%20%221%22%3A%205.7%2C%20%2210%22%3A%202.6%2C%20%2211%22%3A%205.7%2C%20%2212%22%3A%202.4%2C%20%2213%22%3A%205.3%2C%20%2214%22%3A%202.7%2C%20%2215%22%3A%203.5%2C%20%2216%22%3A%203.3%2C%20%2217%22%3A%203.9%2C%20%2218%22%3A%204.8%2C%20%2219%22%3A%204.7%2C%20%222%22%3A%204.1%2C%20%2220%22%3A%205.0%2C%20%2221%22%3A%203.9%2C%20%2222%22%3A%205.6%2C%20%2223%22%3A%203.1%2C%20%2224%22%3A%204.5%2C%20%2225%22%3A%203.3%2C%20%2226%22%3A%202.5%2C%20%2227%22%3A%201.7%2C%20%2228%22%3A%206.4%2C%20%2229%22%3A%202.6%2C%20%223%22%3A%203.1%2C%20%2230%22%3A%206.3%2C%20%2231%22%3A%205.8%2C%20%2232%22%3A%206.2%2C%20%2233%22%3A%203.7%2C%20%2234%22%3A%203.1%2C%20%2235%22%3A%204.5%2C%20%2236%22%3A%202.3%2C%20%2237%22%3A%204.1%2C%20%2238%22%3A%205.4%2C%20%2239%22%3A%204.8%2C%20%224%22%3A%206.5%2C%20%2240%22%3A%203.5%2C%20%2241%22%3A%202.6%2C%20%2242%22%3A%203.8%2C%20%2243%22%3A%205.0%2C%20%2244%22%3A%201.9%2C%20%2245%22%3A%202.5%2C%20%2246%22%3A%203.2%2C%20%2247%22%3A%204.5%2C%20%2248%22%3A%203.7%2C%20%2249%22%3A%202.8%2C%20%225%22%3A%204.8%2C%20%2250%22%3A%203.3%2C%20%2251%22%3A%207.5%2C%20%226%22%3A%205.8%2C%20%227%22%3A%205.0%2C%20%228%22%3A%205.8%2C%20%229%22%3A%204.4%7D%2C%20%22Feb.%22%3A%20%7B%220%22%3A%204.0%2C%20%221%22%3A%206.6%2C%20%2210%22%3A%204.8%2C%20%2211%22%3A%209.2%2C%20%2212%22%3A%203.3%2C%20%2213%22%3A%207.4%2C%20%2214%22%3A%204.0%2C%20%2215%22%3A%203.6%2C%20%2216%22%3A%203.2%2C%20%2217%22%3A%205.2%2C%20%2218%22%3A%207.6%2C%20%2219%22%3A%204.8%2C%20%222%22%3A%206.9%2C%20%2220%22%3A%206.2%2C%20%2221%22%3A%207.1%2C%20%2222%22%3A%205.2%2C%20%2223%22%3A%204.3%2C%20%2224%22%3A%206.3%2C%20%2225%22%3A%204.2%2C%20%2226%22%3A%203.9%2C%20%2227%22%3A%203.1%2C%20%2228%22%3A%208.3%2C%20%2229%22%3A%203.3%2C%20%223%22%3A%204.5%2C%20%2230%22%3A%207.8%2C%20%2231%22%3A%208.3%2C%20%2232%22%3A%208.9%2C%20%2233%22%3A%205.7%2C%20%2234%22%3A%204.7%2C%20%2235%22%3A%205.0%2C%20%2236%22%3A%204.4%2C%20%2237%22%3A%206.1%2C%20%2238%22%3A%207.3%2C%20%2239%22%3A%207.3%2C%20%224%22%3A%208.5%2C%20%2240%22%3A%205.2%2C%20%2241%22%3A%202.9%2C%20%2242%22%3A%204.9%2C%20%2243%22%3A%206.9%2C%20%2244%22%3A%203.0%2C%20%2245%22%3A%203.1%2C%20%2246%22%3A%205.2%2C%20%2247%22%3A%205.6%2C%20%2248%22%3A%206.2%2C%20%2249%22%3A%203.8%2C%20%225%22%3A%206.6%2C%20%2250%22%3A%205.3%2C%20%2251%22%3A%209.2%2C%20%226%22%3A%208.5%2C%20%227%22%3A%206.3%2C%20%228%22%3A%208.1%2C%20%229%22%3A%204.7%7D%2C%20%22Jan.%22%3A%20%7B%220%22%3A%204.3%2C%20%221%22%3A%206.6%2C%20%2210%22%3A%205.1%2C%20%2211%22%3A%2010.2%2C%20%2212%22%3A%203.4%2C%20%2213%22%3A%207.7%2C%20%2214%22%3A%204.2%2C%20%2215%22%3A%203.5%2C%20%2216%22%3A%203.5%2C%20%2217%22%3A%205.3%2C%20%2218%22%3A%207.6%2C%20%2219%22%3A%205.2%2C%20%222%22%3A%206.7%2C%20%2220%22%3A%206.4%2C%20%2221%22%3A%207.8%2C%20%2222%22%3A%205.7%2C%20%2223%22%3A%204.5%2C%20%2224%22%3A%206.4%2C%20%2225%22%3A%204.3%2C%20%2226%22%3A%204.0%2C%20%2227%22%3A%203.2%2C%20%2228%22%3A%208.1%2C%20%2229%22%3A%203.6%2C%20%223%22%3A%204.6%2C%20%2230%22%3A%207.9%2C%20%2231%22%3A%208.7%2C%20%2232%22%3A%208.8%2C%20%2233%22%3A%205.9%2C%20%2234%22%3A%204.5%2C%20%2235%22%3A%205.3%2C%20%2236%22%3A%204.3%2C%20%2237%22%3A%206.2%2C%20%2238%22%3A%207.3%2C%20%2239%22%3A%207.2%2C%20%224%22%3A%209.0%2C%20%2240%22%3A%205.3%2C%20%2241%22%3A%203.1%2C%20%2242%22%3A%205.1%2C%20%2243%22%3A%206.8%2C%20%2244%22%3A%203.1%2C%20%2245%22%3A%203.2%2C%20%2246%22%3A%205.3%2C%20%2247%22%3A%206.0%2C%20%2248%22%3A%206.5%2C%20%2249%22%3A%203.8%2C%20%225%22%3A%206.6%2C%20%2250%22%3A%205.1%2C%20%2251%22%3A%209.3%2C%20%226%22%3A%208.1%2C%20%227%22%3A%206.1%2C%20%228%22%3A%208.4%2C%20%229%22%3A%204.8%7D%2C%20%22July%22%3A%20%7B%220%22%3A%203.2%2C%20%221%22%3A%206.6%2C%20%2210%22%3A%203.7%2C%20%2211%22%3A%207.3%2C%20%2212%22%3A%203.0%2C%20%2213%22%3A%207.1%2C%20%2214%22%3A%204.1%2C%20%2215%22%3A%204.1%2C%20%2216%22%3A%203.8%2C%20%2217%22%3A%204.4%2C%20%2218%22%3A%206.6%2C%20%2219%22%3A%204.9%2C%20%222%22%3A%206.6%2C%20%2220%22%3A%206.0%2C%20%2221%22%3A%204.9%2C%20%2222%22%3A%204.8%2C%20%2223%22%3A%203.9%2C%20%2224%22%3A%206.1%2C%20%2225%22%3A%204.2%2C%20%2226%22%3A%203.6%2C%20%2227%22%3A%202.3%2C%20%2228%22%3A%207.7%2C%20%2229%22%3A%202.9%2C%20%223%22%3A%204.3%2C%20%2230%22%3A%207.3%2C%20%2231%22%3A%207.6%2C%20%2232%22%3A%207.6%2C%20%2233%22%3A%204.4%2C%20%2234%22%3A%202.9%2C%20%2235%22%3A%205.4%2C%20%2236%22%3A%203.5%2C%20%2237%22%3A%205.2%2C%20%2238%22%3A%206.6%2C%20%2239%22%3A%205.8%2C%20%224%22%3A%207.6%2C%20%2240%22%3A%204.3%2C%20%2241%22%3A%202.9%2C%20%2242%22%3A%204.7%2C%20%2243%22%3A%206.2%2C%20%2244%22%3A%202.6%2C%20%2245%22%3A%203.0%2C%20%2246%22%3A%204.2%2C%20%2247%22%3A%205.1%2C%20%2248%22%3A%205.0%2C%20%2249%22%3A%203.9%2C%20%225%22%3A%206.1%2C%20%2250%22%3A%205.2%2C%20%2251%22%3A%208.2%2C%20%226%22%3A%207.3%2C%20%227%22%3A%205.6%2C%20%228%22%3A%206.7%2C%20%229%22%3A%205.1%7D%2C%20%22June%22%3A%20%7B%220%22%3A%203.3%2C%20%221%22%3A%206.6%2C%20%2210%22%3A%204.0%2C%20%2211%22%3A%207.7%2C%20%2212%22%3A%203.0%2C%20%2213%22%3A%207.2%2C%20%2214%22%3A%204.1%2C%20%2215%22%3A%204.0%2C%20%2216%22%3A%203.7%2C%20%2217%22%3A%204.4%2C%20%2218%22%3A%206.9%2C%20%2219%22%3A%204.8%2C%20%222%22%3A%206.8%2C%20%2220%22%3A%206.2%2C%20%2221%22%3A%204.9%2C%20%2222%22%3A%205.0%2C%20%2223%22%3A%204.0%2C%20%2224%22%3A%206.2%2C%20%2225%22%3A%204.3%2C%20%2226%22%3A%203.7%2C%20%2227%22%3A%202.5%2C%20%2228%22%3A%207.8%2C%20%2229%22%3A%202.9%2C%20%223%22%3A%204.4%2C%20%2230%22%3A%207.3%2C%20%2231%22%3A%207.9%2C%20%2232%22%3A%207.7%2C%20%2233%22%3A%204.6%2C%20%2234%22%3A%204.0%2C%20%2235%22%3A%205.2%2C%20%2236%22%3A%203.7%2C%20%2237%22%3A%205.6%2C%20%2238%22%3A%206.9%2C%20%2239%22%3A%205.9%2C%20%224%22%3A%207.7%2C%20%2240%22%3A%204.5%2C%20%2241%22%3A%202.9%2C%20%2242%22%3A%204.9%2C%20%2243%22%3A%206.5%2C%20%2244%22%3A%202.7%2C%20%2245%22%3A%203.1%2C%20%2246%22%3A%204.3%2C%20%2247%22%3A%205.2%2C%20%2248%22%3A%205.3%2C%20%2249%22%3A%203.9%2C%20%225%22%3A%206.2%2C%20%2250%22%3A%205.4%2C%20%2251%22%3A%208.1%2C%20%226%22%3A%207.9%2C%20%227%22%3A%205.8%2C%20%228%22%3A%207.0%2C%20%229%22%3A%205.0%7D%2C%20%22March%22%3A%20%7B%220%22%3A%203.8%2C%20%221%22%3A%206.6%2C%20%2210%22%3A%204.5%2C%20%2211%22%3A%209.0%2C%20%2212%22%3A%203.2%2C%20%2213%22%3A%207.1%2C%20%2214%22%3A%203.9%2C%20%2215%22%3A%203.7%2C%20%2216%22%3A%203.7%2C%20%2217%22%3A%205.0%2C%20%2218%22%3A%207.3%2C%20%2219%22%3A%204.8%2C%20%222%22%3A%206.7%2C%20%2220%22%3A%206.2%2C%20%2221%22%3A%206.8%2C%20%2222%22%3A%205.1%2C%20%2223%22%3A%204.2%2C%20%2224%22%3A%206.3%2C%20%2225%22%3A%204.2%2C%20%2226%22%3A%203.8%2C%20%2227%22%3A%202.9%2C%20%2228%22%3A%208.1%2C%20%2229%22%3A%203.0%2C%20%223%22%3A%204.4%2C%20%2230%22%3A%207.7%2C%20%2231%22%3A%208.3%2C%20%2232%22%3A%208.5%2C%20%2233%22%3A%205.2%2C%20%2234%22%3A%204.4%2C%20%2235%22%3A%204.7%2C%20%2236%22%3A%204.2%2C%20%2237%22%3A%206.0%2C%20%2238%22%3A%207.3%2C%20%2239%22%3A%207.1%2C%20%224%22%3A%208.3%2C%20%2240%22%3A%205.1%2C%20%2241%22%3A%202.9%2C%20%2242%22%3A%205.0%2C%20%2243%22%3A%206.9%2C%20%2244%22%3A%202.9%2C%20%2245%22%3A%202.9%2C%20%2246%22%3A%205.1%2C%20%2247%22%3A%205.4%2C%20%2248%22%3A%205.9%2C%20%2249%22%3A%203.8%2C%20%225%22%3A%206.4%2C%20%2250%22%3A%205.3%2C%20%2251%22%3A%208.8%2C%20%226%22%3A%208.3%2C%20%227%22%3A%206.5%2C%20%228%22%3A%207.8%2C%20%229%22%3A%204.7%7D%2C%20%22May%22%3A%20%7B%220%22%3A%203.4%2C%20%221%22%3A%206.6%2C%20%2210%22%3A%204.1%2C%20%2211%22%3A%208.1%2C%20%2212%22%3A%203.0%2C%20%2213%22%3A%207.1%2C%20%2214%22%3A%204.0%2C%20%2215%22%3A%203.9%2C%20%2216%22%3A%203.5%2C%20%2217%22%3A%204.5%2C%20%2218%22%3A%207.1%2C%20%2219%22%3A%204.7%2C%20%222%22%3A%206.7%2C%20%2220%22%3A%206.1%2C%20%2221%22%3A%205.0%2C%20%2222%22%3A%205.0%2C%20%2223%22%3A%204.0%2C%20%2224%22%3A%206.1%2C%20%2225%22%3A%204.2%2C%20%2226%22%3A%203.6%2C%20%2227%22%3A%202.6%2C%20%2228%22%3A%207.8%2C%20%2229%22%3A%202.5%2C%20%223%22%3A%204.4%2C%20%2230%22%3A%207.2%2C%20%2231%22%3A%208.0%2C%20%2232%22%3A%207.8%2C%20%2233%22%3A%204.8%2C%20%2234%22%3A%204.0%2C%20%2235%22%3A%205.0%2C%20%2236%22%3A%204.0%2C%20%2237%22%3A%205.8%2C%20%2238%22%3A%206.9%2C%20%2239%22%3A%206.0%2C%20%224%22%3A%207.9%2C%20%2240%22%3A%204.6%2C%20%2241%22%3A%202.8%2C%20%2242%22%3A%205.0%2C%20%2243%22%3A%206.5%2C%20%2244%22%3A%202.7%2C%20%2245%22%3A%202.6%2C%20%2246%22%3A%204.5%2C%20%2247%22%3A%205.2%2C%20%2248%22%3A%205.5%2C%20%2249%22%3A%203.9%2C%20%225%22%3A%206.2%2C%20%2250%22%3A%205.4%2C%20%2251%22%3A%208.2%2C%20%226%22%3A%207.7%2C%20%227%22%3A%205.9%2C%20%228%22%3A%207.2%2C%20%229%22%3A%204.9%7D%2C%20%22Nov.%22%3A%20%7B%220%22%3A%203.1%2C%20%221%22%3A%206.0%2C%20%2210%22%3A%202.8%2C%20%2211%22%3A%206.0%2C%20%2212%22%3A%202.6%2C%20%2213%22%3A%205.7%2C%20%2214%22%3A%203.0%2C%20%2215%22%3A%203.7%2C%20%2216%22%3A%203.6%2C%20%2217%22%3A%204.1%2C%20%2218%22%3A%205.1%2C%20%2219%22%3A%204.8%2C%20%222%22%3A%204.7%2C%20%2220%22%3A%205.4%2C%20%2221%22%3A%205.4%2C%20%2222%22%3A%205.9%2C%20%2223%22%3A%203.3%2C%20%2224%22%3A%205.0%2C%20%2225%22%3A%203.5%2C%20%2226%22%3A%202.8%2C%20%2227%22%3A%201.8%2C%20%2228%22%3A%206.8%2C%20%2229%22%3A%202.7%2C%20%223%22%3A%203.4%2C%20%2230%22%3A%206.6%2C%20%2231%22%3A%206.2%2C%20%2232%22%3A%206.6%2C%20%2233%22%3A%203.9%2C%20%2234%22%3A%203.2%2C%20%2235%22%3A%204.8%2C%20%2236%22%3A%202.5%2C%20%2237%22%3A%204.2%2C%20%2238%22%3A%205.7%2C%20%2239%22%3A%205.1%2C%20%224%22%3A%206.9%2C%20%2240%22%3A%203.7%2C%20%2241%22%3A%202.7%2C%20%2242%22%3A%204.0%2C%20%2243%22%3A%205.2%2C%20%2244%22%3A%202.1%2C%20%2245%22%3A%202.6%2C%20%2246%22%3A%203.4%2C%20%2247%22%3A%204.7%2C%20%2248%22%3A%204.0%2C%20%2249%22%3A%203.0%2C%20%225%22%3A%205.1%2C%20%2250%22%3A%203.7%2C%20%2251%22%3A%207.8%2C%20%226%22%3A%206.0%2C%20%227%22%3A%205.1%2C%20%228%22%3A%206.0%2C%20%229%22%3A%204.5%7D%2C%20%22Oct.%22%3A%20%7B%220%22%3A%203.1%2C%20%221%22%3A%206.1%2C%20%2210%22%3A%203.1%2C%20%2211%22%3A%206.3%2C%20%2212%22%3A%202.8%2C%20%2213%22%3A%206.0%2C%20%2214%22%3A%203.3%2C%20%2215%22%3A%203.9%2C%20%2216%22%3A%203.9%2C%20%2217%22%3A%204.2%2C%20%2218%22%3A%205.4%2C%20%2219%22%3A%204.9%2C%20%222%22%3A%205.2%2C%20%2220%22%3A%205.7%2C%20%2221%22%3A%205.3%2C%20%2222%22%3A%206.1%2C%20%2223%22%3A%203.5%2C%20%2224%22%3A%205.5%2C%20%2225%22%3A%203.7%2C%20%2226%22%3A%203.1%2C%20%2227%22%3A%201.9%2C%20%2228%22%3A%207.3%2C%20%2229%22%3A%202.9%2C%20%223%22%3A%203.7%2C%20%2230%22%3A%207.0%2C%20%2231%22%3A%206.5%2C%20%2232%22%3A%206.9%2C%20%2233%22%3A%204.1%2C%20%2234%22%3A%203.3%2C%20%2235%22%3A%205.1%2C%20%2236%22%3A%202.7%2C%20%2237%22%3A%204.4%2C%20%2238%22%3A%206.0%2C%20%2239%22%3A%205.4%2C%20%224%22%3A%207.3%2C%20%2240%22%3A%203.9%2C%20%2241%22%3A%202.8%2C%20%2242%22%3A%204.2%2C%20%2243%22%3A%205.4%2C%20%2244%22%3A%202.2%2C%20%2245%22%3A%202.8%2C%20%2246%22%3A%203.6%2C%20%2247%22%3A%205.0%2C%20%2248%22%3A%204.3%2C%20%2249%22%3A%203.2%2C%20%225%22%3A%205.4%2C%20%2250%22%3A%204.1%2C%20%2251%22%3A%208.0%2C%20%226%22%3A%206.4%2C%20%227%22%3A%205.3%2C%20%228%22%3A%206.3%2C%20%229%22%3A%204.6%7D%2C%20%22Sept.%22%3A%20%7B%220%22%3A%203.1%2C%20%221%22%3A%206.3%2C%20%2210%22%3A%203.2%2C%20%2211%22%3A%206.6%2C%20%2212%22%3A%202.9%2C%20%2213%22%3A%206.8%2C%20%2214%22%3A%204.0%2C%20%2215%22%3A%204.0%2C%20%2216%22%3A%203.9%2C%20%2217%22%3A%204.3%2C%20%2218%22%3A%205.8%2C%20%2219%22%3A%204.8%2C%20%222%22%3A%205.7%2C%20%2220%22%3A%205.9%2C%20%2221%22%3A%205.2%2C%20%2222%22%3A%204.6%2C%20%2223%22%3A%203.7%2C%20%2224%22%3A%205.8%2C%20%2225%22%3A%203.8%2C%20%2226%22%3A%203.3%2C%20%2227%22%3A%202.0%2C%20%2228%22%3A%207.5%2C%20%2229%22%3A%20null%2C%20%223%22%3A%204.0%2C%20%2230%22%3A%20null%2C%20%2231%22%3A%206.9%2C%20%2232%22%3A%207.1%2C%20%2233%22%3A%204.2%2C%20%2234%22%3A%203.5%2C%20%2235%22%3A%20null%2C%20%2236%22%3A%203.0%2C%20%2237%22%3A%204.7%2C%20%2238%22%3A%206.2%2C%20%2239%22%3A%205.2%2C%20%224%22%3A%207.5%2C%20%2240%22%3A%204.1%2C%20%2241%22%3A%202.9%2C%20%2242%22%3A%204.4%2C%20%2243%22%3A%205.6%2C%20%2244%22%3A%202.4%2C%20%2245%22%3A%202.9%2C%20%2246%22%3A%203.8%2C%20%2247%22%3A%204.9%2C%20%2248%22%3A%204.6%2C%20%2249%22%3A%203.9%2C%20%225%22%3A%205.6%2C%20%2250%22%3A%204.5%2C%20%2251%22%3A%208.3%2C%20%226%22%3A%206.8%2C%20%227%22%3A%205.3%2C%20%228%22%3A%206.5%2C%20%229%22%3A%204.9%7D%2C%20%22State%22%3A%20%7B%220%22%3A%20%22Alabama%22%2C%20%221%22%3A%20%22Alaska%22%2C%20%2210%22%3A%20%22Georgia%22%2C%20%2211%22%3A%20%22Hawaii%22%2C%20%2212%22%3A%20%22Idaho%22%2C%20%2213%22%3A%20%22Illinois%22%2C%20%2214%22%3A%20%22Indiana%22%2C%20%2215%22%3A%20%22Iowa%22%2C%20%2216%22%3A%20%22Kansas%22%2C%20%2217%22%3A%20%22Kentucky%22%2C%20%2218%22%3A%20%22Louisiana%22%2C%20%2219%22%3A%20%22Maine%22%2C%20%222%22%3A%20%22Arizona%22%2C%20%2220%22%3A%20%22Maryland%22%2C%20%2221%22%3A%20%22Massachusetts%22%2C%20%2222%22%3A%20%22Michigan%22%2C%20%2223%22%3A%20%22Minnesota%22%2C%20%2224%22%3A%20%22Mississippi%22%2C%20%2225%22%3A%20%22Missouri%22%2C%20%2226%22%3A%20%22Montana%22%2C%20%2227%22%3A%20%22Nebraska%22%2C%20%2228%22%3A%20%22Nevada%22%2C%20%2229%22%3A%20%22New%20Hampshire%22%2C%20%223%22%3A%20%22Arkansas%22%2C%20%2230%22%3A%20%22New%20Jersey%22%2C%20%2231%22%3A%20%22New%20Mexico%22%2C%20%2232%22%3A%20%22New%20York%22%2C%20%2233%22%3A%20%22North%20Carolina%22%2C%20%2234%22%3A%20%22North%20Dakota%22%2C%20%2235%22%3A%20%22Ohio%22%2C%20%2236%22%3A%20%22Oklahoma%22%2C%20%2237%22%3A%20%22Oregon%22%2C%20%2238%22%3A%20%22Pennsylvania%22%2C%20%2239%22%3A%20%22Rhode%20Island%22%2C%20%224%22%3A%20%22California%22%2C%20%2240%22%3A%20%22South%20Carolina%22%2C%20%2241%22%3A%20%22South%20Dakota%22%2C%20%2242%22%3A%20%22Tennessee%22%2C%20%2243%22%3A%20%22Texas%22%2C%20%2244%22%3A%20%22Utah%22%2C%20%2245%22%3A%20%22Vermont%22%2C%20%2246%22%3A%20%22Virginia%22%2C%20%2247%22%3A%20%22Washington%22%2C%20%2248%22%3A%20%22West%20Virginia%22%2C%20%2249%22%3A%20%22Wisconsin%22%2C%20%225%22%3A%20%22Colorado%22%2C%20%2250%22%3A%20%22Wyoming%22%2C%20%2251%22%3A%20%22Puerto%20Rico%22%2C%20%226%22%3A%20%22Connecticut%22%2C%20%227%22%3A%20%22Delaware%22%2C%20%228%22%3A%20%22D.C.%22%2C%20%229%22%3A%20%22Florida%22%7D%7D%0A%20%20%20%20%20%20%20%20%20%20%20%20%29.addTo%28map_582976c998ea4d56b122a2480326deed%29%3B%0A%0A%20%20%20%20%20%20%20%20%20%20%20%20macro_element_15da9fcb7b9b4f4bbe49575aa4aef9b9.setStyle%28function%28feature%29%20%7B%0A%20%20%20%20%20%20%20%20%20%20%20%20%20%20%20%20if%20%28feature.properties.style%20%21%3D%3D%20undefined%29%7B%0A%20%20%20%20%20%20%20%20%20%20%20%20%20%20%20%20%20%20%20%20return%20feature.properties.style%3B%0A%20%20%20%20%20%20%20%20%20%20%20%20%20%20%20%20%7D%0A%20%20%20%20%20%20%20%20%20%20%20%20%20%20%20%20else%7B%0A%20%20%20%20%20%20%20%20%20%20%20%20%20%20%20%20%20%20%20%20return%20%22%22%3B%0A%20%20%20%20%20%20%20%20%20%20%20%20%20%20%20%20%7D%0A%20%20%20%20%20%20%20%20%20%20%20%20%7D%29%3B%0A%0A%20%20%20%20%20%20%20%20%20%20%20%20function%20onOverlayAdd%28e%29%20%7B%0A%20%20%20%20%20%20%20%20%20%20%20%20%20%20%20%20macro_element_15da9fcb7b9b4f4bbe49575aa4aef9b9.eachLayer%28function%20%28layer%29%20%7B%0A%20%20%20%20%20%20%20%20%20%20%20%20%20%20%20%20%20%20%20%20layer._path.id%20%3D%20%27feature-%27%20%2B%20layer.feature.id%3B%0A%20%20%20%20%20%20%20%20%20%20%20%20%20%20%20%20%7D%29%3B%0A%0A%20%20%20%20%20%20%20%20%20%20%20%20%20%20%20%20d3.selectAll%28%27path%27%29%0A%20%20%20%20%20%20%20%20%20%20%20%20%20%20%20%20.attr%28%27stroke%27%2C%20%27white%27%29%0A%20%20%20%20%20%20%20%20%20%20%20%20%20%20%20%20.attr%28%27stroke-width%27%2C%200.8%29%0A%20%20%20%20%20%20%20%20%20%20%20%20%20%20%20%20.attr%28%27stroke-dasharray%27%2C%20%275%2C5%27%29%0A%20%20%20%20%20%20%20%20%20%20%20%20%20%20%20%20.attr%28%27fill-opacity%27%2C%200%29%3B%0A%0A%20%20%20%20%20%20%20%20%20%20%20%20%20%20%20%20fill_map%28%29%3B%0A%20%20%20%20%20%20%20%20%20%20%20%20%7D%0A%20%20%20%20%20%20%20%20%20%20%20%20map_582976c998ea4d56b122a2480326deed.on%28%27overlayadd%27%2C%20onOverlayAdd%29%3B%0A%0A%20%20%20%20%20%20%20%20%20%20%20%20onOverlayAdd%28%29%3B%20//%20fill%20map%20as%20layer%20is%20loaded%0A%20%20%20%20%20%20%20%20%0A%3C/script%3E onload=\"this.contentDocument.open();this.contentDocument.write(    decodeURIComponent(this.getAttribute('data-html')));this.contentDocument.close();\" allowfullscreen webkitallowfullscreen mozallowfullscreen></iframe></div></div>"
      ],
      "text/plain": [
       "<folium.folium.Map at 0x1ac4890de08>"
      ]
     },
     "execution_count": 293,
     "metadata": {},
     "output_type": "execute_result"
    }
   ],
   "source": [
    "m = folium.Map(\n",
    "    [0, 0],\n",
    "    tiles='Stamen Terrain',\n",
    "    zoom_start=2\n",
    ")\n",
    "\n",
    "g = TimeSliderChoropleth(\n",
    "    data=df.to_json() ,\n",
    "    styledict={},\n",
    ").add_to(m)\n",
    "m"
   ]
  },
  {
   "cell_type": "code",
   "execution_count": null,
   "metadata": {},
   "outputs": [],
   "source": []
  },
  {
   "cell_type": "code",
   "execution_count": null,
   "metadata": {},
   "outputs": [],
   "source": []
  },
  {
   "cell_type": "code",
   "execution_count": null,
   "metadata": {},
   "outputs": [],
   "source": []
  }
 ],
 "metadata": {
  "kernelspec": {
   "display_name": "Python 3",
   "language": "python",
   "name": "python3"
  },
  "language_info": {
   "codemirror_mode": {
    "name": "ipython",
    "version": 3
   },
   "file_extension": ".py",
   "mimetype": "text/x-python",
   "name": "python",
   "nbconvert_exporter": "python",
   "pygments_lexer": "ipython3",
   "version": "3.7.6"
  }
 },
 "nbformat": 4,
 "nbformat_minor": 4
}
